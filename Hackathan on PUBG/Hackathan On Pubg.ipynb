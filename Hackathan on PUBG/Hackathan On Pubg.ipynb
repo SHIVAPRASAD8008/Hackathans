{
 "cells": [
  {
   "cell_type": "code",
   "execution_count": 1,
   "metadata": {},
   "outputs": [
    {
     "name": "stderr",
     "output_type": "stream",
     "text": [
      "C:\\Users\\janga\\Anaconda3\\lib\\site-packages\\statsmodels\\tools\\_testing.py:19: FutureWarning: pandas.util.testing is deprecated. Use the functions in the public API at pandas.testing instead.\n",
      "  import pandas.util.testing as tm\n"
     ]
    }
   ],
   "source": [
    "import pandas as pd\n",
    "import numpy as np\n",
    "import seaborn as sns\n",
    "import matplotlib.pyplot as plt"
   ]
  },
  {
   "cell_type": "code",
   "execution_count": null,
   "metadata": {},
   "outputs": [],
   "source": [
    "df=pd.read_csv(r\"C:\\Users\\janga\\Pubg Task\\data.csv\")"
   ]
  },
  {
   "cell_type": "code",
   "execution_count": null,
   "metadata": {},
   "outputs": [],
   "source": [
    "df"
   ]
  },
  {
   "cell_type": "code",
   "execution_count": null,
   "metadata": {},
   "outputs": [],
   "source": [
    "df.shape"
   ]
  },
  {
   "cell_type": "code",
   "execution_count": null,
   "metadata": {},
   "outputs": [],
   "source": [
    "df.info()"
   ]
  },
  {
   "cell_type": "markdown",
   "metadata": {},
   "source": [
    "## Dropping Unnamed:0 column"
   ]
  },
  {
   "cell_type": "code",
   "execution_count": null,
   "metadata": {},
   "outputs": [],
   "source": [
    "df.drop(['Unnamed: 0'],axis=1,inplace=True)"
   ]
  },
  {
   "cell_type": "code",
   "execution_count": null,
   "metadata": {
    "scrolled": true
   },
   "outputs": [],
   "source": [
    "df.head()"
   ]
  },
  {
   "cell_type": "markdown",
   "metadata": {},
   "source": [
    "* Here we dropped Unnamed:0 Column from the dataset.Because there is no title for the Column.\n",
    "\n",
    "* So we can dropped the column"
   ]
  },
  {
   "cell_type": "markdown",
   "metadata": {},
   "source": [
    "# Checking Missing Values"
   ]
  },
  {
   "cell_type": "code",
   "execution_count": null,
   "metadata": {},
   "outputs": [],
   "source": [
    "df.isnull().sum()"
   ]
  },
  {
   "cell_type": "markdown",
   "metadata": {},
   "source": [
    "* Here we found only one missing value in winPlacePerc.\n",
    "* So we can impute with mean,Because of winPlacePerc is continuous data."
   ]
  },
  {
   "cell_type": "code",
   "execution_count": null,
   "metadata": {},
   "outputs": [],
   "source": [
    "mean=round(np.mean(df.winPlacePerc))\n",
    "df.winPlacePerc.fillna(mean,inplace=True)"
   ]
  },
  {
   "cell_type": "code",
   "execution_count": null,
   "metadata": {},
   "outputs": [],
   "source": [
    "df.isnull().sum()"
   ]
  },
  {
   "cell_type": "markdown",
   "metadata": {},
   "source": [
    "***After Filling Data Thier is no loss of Data***"
   ]
  },
  {
   "cell_type": "code",
   "execution_count": null,
   "metadata": {},
   "outputs": [],
   "source": [
    "df.describe()"
   ]
  },
  {
   "cell_type": "markdown",
   "metadata": {},
   "source": [
    "## EXPLORATORY DATA ANALYSIS"
   ]
  },
  {
   "cell_type": "markdown",
   "metadata": {},
   "source": [
    "### Checking how many types of versions in Pubg"
   ]
  },
  {
   "cell_type": "code",
   "execution_count": null,
   "metadata": {},
   "outputs": [],
   "source": [
    "match_types = df.loc[:,\"matchType\"].value_counts().to_frame().reset_index()\n",
    "match_types.columns = [\"Type\",\"Count\"]\n",
    "match_types"
   ]
  },
  {
   "cell_type": "markdown",
   "metadata": {},
   "source": [
    "* The above frame shows,In Pubg how many types of matches are avaialble.and how many types of matches they played in Pubg with different types."
   ]
  },
  {
   "cell_type": "markdown",
   "metadata": {},
   "source": [
    "### Checking how many matches in our data set"
   ]
  },
  {
   "cell_type": "code",
   "execution_count": null,
   "metadata": {},
   "outputs": [],
   "source": [
    "number_of_matches = df.loc[:,\"matchId\"].nunique()\n",
    "number_of_matches"
   ]
  },
  {
   "cell_type": "markdown",
   "metadata": {},
   "source": [
    "* There are 47951 matches in our dataset\n"
   ]
  },
  {
   "cell_type": "code",
   "execution_count": null,
   "metadata": {},
   "outputs": [],
   "source": [
    "plt.figure(figsize=(18,6))\n",
    "sns.countplot(x='matchType',data=df)\n",
    "plt.xticks(rotation=90)\n",
    "plt.show()"
   ]
  },
  {
   "cell_type": "markdown",
   "metadata": {},
   "source": [
    "* The graph above shows that the most popular game modes are squad and duo. Next I will aggregate all these individual types into three main categories (squad, duo and solo)."
   ]
  },
  {
   "cell_type": "code",
   "execution_count": null,
   "metadata": {
    "scrolled": true
   },
   "outputs": [],
   "source": [
    "match_types1 = df.loc[:,\"matchType\"].value_counts().to_frame()\n",
    "aggregated_squads = match_types1.loc[[\"squad-fpp\",\"squad\",\"normal-squad-fpp\",\"normal-squad\"],\"matchType\"].sum()\n",
    "aggregated_duos = match_types1.loc[[\"duo-fpp\",\"duo\",\"normal-duo-fpp\",\"normal-duo\"],\"matchType\"].sum()\n",
    "aggregated_solo = match_types1.loc[[\"solo-fpp\",\"solo\",\"normal-solo-fpp\",\"normal-solo\"],\"matchType\"].sum()\n",
    "aggregated_match = pd.DataFrame([aggregated_squads,aggregated_duos,aggregated_solo], index=[\"squad\",\"duo\",\"solo\"], columns =[\"count\"])\n",
    "aggregated_match"
   ]
  },
  {
   "cell_type": "markdown",
   "metadata": {},
   "source": [
    "* In PUBG there are essentially three main modes of game: Solo, Duo and Squad.\n",
    "* So we are aggregate individual types into three main categories"
   ]
  },
  {
   "cell_type": "code",
   "execution_count": null,
   "metadata": {},
   "outputs": [],
   "source": [
    "fig1, ax1 = plt.subplots(figsize=(5, 5))\n",
    "labels = ['squad', 'duo', 'solo']\n",
    "wedges, texts, autotexts = ax1.pie(aggregated_match[\"count\"],textprops=dict(color=\"w\"), autopct='%1.1f%%')\n",
    "ax1.legend(wedges, labels,title=\"Types\",loc=\"center left\",bbox_to_anchor=(1, 0, 0.5, 1))\n",
    "plt.setp(autotexts, size=12, weight=\"bold\")\n",
    "plt.show()"
   ]
  },
  {
   "cell_type": "markdown",
   "metadata": {},
   "source": [
    "* the above pie chart shows that 54% of all the matches were played in squad mode"
   ]
  },
  {
   "cell_type": "code",
   "execution_count": null,
   "metadata": {},
   "outputs": [],
   "source": [
    "plt.figure(figsize=(15,8))\n",
    "sns.distplot(df['numGroups'])\n",
    "plt.title('Number of groups')\n",
    "plt.show()"
   ]
  },
  {
   "cell_type": "markdown",
   "metadata": {},
   "source": [
    "* The above graph allows to clearly says distribution three spikes referring to squad games, duo games and solo games."
   ]
  },
  {
   "cell_type": "code",
   "execution_count": null,
   "metadata": {},
   "outputs": [],
   "source": [
    "plt.figure(figsize=(15,8))\n",
    "sns.boxplot(x='kills',y='damageDealt',data=df)\n",
    "plt.title('Damage Dealth VS Number of kills')\n",
    "plt.show()"
   ]
  },
  {
   "cell_type": "markdown",
   "metadata": {},
   "source": [
    "* There is an obvious correlation between number of kills and damage dealt. We see also that there are some outliers, more in the lower range. As the number of kills increases number of outliers reduces. The maximum kills is 72."
   ]
  },
  {
   "cell_type": "code",
   "execution_count": null,
   "metadata": {},
   "outputs": [],
   "source": [
    "df[df['kills']>50][[\"Id\",\"assists\",\"damageDealt\",\"headshotKills\",\"kills\",\"longestKill\"]]"
   ]
  },
  {
   "cell_type": "code",
   "execution_count": null,
   "metadata": {},
   "outputs": [],
   "source": [
    "headshots = df[df['headshotKills']>0]\n",
    "plt.figure(figsize=(15,5))\n",
    "sns.countplot(headshots['headshotKills'].sort_values())\n",
    "print(\"Maximum number of headshots that the player scored: \" + str(df[\"headshotKills\"].max()))"
   ]
  },
  {
   "cell_type": "code",
   "execution_count": null,
   "metadata": {
    "scrolled": true
   },
   "outputs": [],
   "source": [
    "headshots = df[df['DBNOs']>0]\n",
    "plt.figure(figsize=(15,5))\n",
    "sns.countplot(headshots['DBNOs'].sort_values())\n",
    "print(\"Mean number of DBNOs that the player scored: \" + str(df[\"DBNOs\"].mean()))"
   ]
  },
  {
   "cell_type": "code",
   "execution_count": null,
   "metadata": {},
   "outputs": [],
   "source": [
    "sns.barplot(x=\"revives\",y=\"groupId\",data=df)"
   ]
  },
  {
   "cell_type": "markdown",
   "metadata": {},
   "source": [
    "### Now lets try to find if there is any correlation between kills and DBNOs"
   ]
  },
  {
   "cell_type": "code",
   "execution_count": null,
   "metadata": {},
   "outputs": [],
   "source": []
  },
  {
   "cell_type": "markdown",
   "metadata": {},
   "source": [
    "* It seems that DBNOs are correlated with kills. That makes sense as usually if player is not killed by headshoot you have to finish him while he's in DBNO state. Interesting is the first observation in the plot - apparently there is a number of players who scored a kill without DBNOs - this is usually a headshot or a vechicle explosion"
   ]
  },
  {
   "cell_type": "markdown",
   "metadata": {},
   "source": [
    "### MAXIMUM DISTANCE"
   ]
  },
  {
   "cell_type": "code",
   "execution_count": null,
   "metadata": {},
   "outputs": [],
   "source": [
    "dist = df[df['longestKill']<200]\n",
    "dist.hist('longestKill', bins=20, figsize = (16,8))\n",
    "plt.show()"
   ]
  },
  {
   "cell_type": "code",
   "execution_count": null,
   "metadata": {},
   "outputs": [],
   "source": [
    "print(\"Average longest kill distance a player achieve is {:.1f}m, 95% of them not more than {:.1f}m and a maximum distance is {:.1f}m.\" .format(df['longestKill'].mean(),df['longestKill'].quantile(0.95),df['longestKill'].max()))"
   ]
  },
  {
   "cell_type": "code",
   "execution_count": null,
   "metadata": {},
   "outputs": [],
   "source": [
    "walk = df[\"walkDistance\"] == 0\n",
    "print('number of players didnot walk at all:',walk.sum())"
   ]
  },
  {
   "cell_type": "code",
   "execution_count": null,
   "metadata": {},
   "outputs": [],
   "source": [
    "ride = df[\"rideDistance\"] == 0\n",
    "print('number of players who didnot ride at all:',ride.sum())"
   ]
  },
  {
   "cell_type": "code",
   "execution_count": null,
   "metadata": {},
   "outputs": [],
   "source": [
    "swim=df['swimDistance']==0\n",
    "print('number of players who dint swim at all',swim.sum())"
   ]
  },
  {
   "cell_type": "markdown",
   "metadata": {},
   "source": [
    "### Now lets create the sum of walking,swimming and driving distances"
   ]
  },
  {
   "cell_type": "code",
   "execution_count": null,
   "metadata": {},
   "outputs": [],
   "source": [
    "travel_dist = df[\"walkDistance\"] + df[\"rideDistance\"] + df[\"swimDistance\"]\n",
    "travel_dist = travel_dist[travel_dist<5000]\n",
    "travel_dist.hist(bins=40, figsize = (15,10))\n",
    "plt.show()"
   ]
  },
  {
   "cell_type": "markdown",
   "metadata": {},
   "source": [
    "### NOW LETS ANALYSE THE TOP 10 PLAYERS IN THE GIVEN DATASET"
   ]
  },
  {
   "cell_type": "code",
   "execution_count": null,
   "metadata": {},
   "outputs": [],
   "source": [
    "top10 = df[df[\"winPlacePerc\"]>0.9]\n",
    "print(\"TOP 10 overview\\n\")\n",
    "print(\"Average number of kills: {:.1f}\\nMinimum: {}\\nThe best: {}\\n95% of players within: {} kills.\" \n",
    "      .format(top10[\"kills\"].mean(), top10[\"kills\"].min(), top10[\"kills\"].max(),top10[\"kills\"].quantile(0.95)))"
   ]
  },
  {
   "cell_type": "code",
   "execution_count": null,
   "metadata": {},
   "outputs": [],
   "source": [
    "print(\"On average the best 10% of players have the longest kill at {:.3f} meters, and the best score is {:.1f} meters.\"\n",
    "      .format(top10[\"longestKill\"].mean(), top10[\"longestKill\"].max()))"
   ]
  },
  {
   "cell_type": "markdown",
   "metadata": {},
   "source": [
    "### Effect of Killing on Winning Percentage"
   ]
  },
  {
   "cell_type": "code",
   "execution_count": null,
   "metadata": {
    "scrolled": true
   },
   "outputs": [],
   "source": [
    "kills = df.copy()\n",
    "kills['killsCategories'] = pd.cut(kills['kills'], [-1, 0, 2, 5, 10, 60], labels=['0_kills','1-2_kills', '3-5_kills', '6-10_kills', '10+_kills'])\n",
    "plt.figure(figsize=(15,8))\n",
    "sns.boxplot(x=\"killsCategories\", y=\"winPlacePerc\", data=kills)\n",
    "plt.show()"
   ]
  },
  {
   "cell_type": "markdown",
   "metadata": {},
   "source": [
    "### Checking Outliers and Outliers Treatment"
   ]
  },
  {
   "cell_type": "code",
   "execution_count": null,
   "metadata": {
    "scrolled": false
   },
   "outputs": [],
   "source": [
    "plt.figure(figsize=(19,12))\n",
    "\n",
    "\n",
    "num_features = df.select_dtypes(include=['int64']).columns\n",
    "for i in range(6):\n",
    "    plt.subplot(2,3,i+1)\n",
    "    plt.boxplot(df[num_features[i]])\n",
    "    plt.title(num_features[i],color=\"b\",fontsize=20)\n",
    "    plt.yticks(fontsize=14)\n",
    "    plt.xticks(fontsize=14)"
   ]
  },
  {
   "cell_type": "code",
   "execution_count": null,
   "metadata": {},
   "outputs": [],
   "source": [
    "from scipy.stats.mstats import winsorize\n",
    "df[\"assists\"]           = winsorize(df[\"assists\"],(0,0.18))\n",
    "df[\"boosts\"]        = winsorize(df[\"boosts\"],(0,0.090))\n",
    "df[\"DBNOs\"]  = winsorize(df[\"DBNOs\"],(0,0.090))\n",
    "df[\"headshotKills\"]  = winsorize(df[\"headshotKills\"],(0,0.17))\n",
    "df[\"heals\"]  = winsorize(df[\"heals\"],(0,0.090))\n",
    "df[\"killPlace\"]= winsorize(df[\"killPlace\"],(0.,0.090))"
   ]
  },
  {
   "cell_type": "code",
   "execution_count": null,
   "metadata": {},
   "outputs": [],
   "source": [
    "plt.figure(figsize=(19,12))\n",
    "\n",
    "\n",
    "num_features = df.select_dtypes(include=['int64']).columns\n",
    "for i in range(6):\n",
    "    plt.subplot(2,3,i+1)\n",
    "    plt.boxplot(df[num_features[i]])\n",
    "    plt.title(num_features[i],color=\"b\",fontsize=20)\n",
    "    plt.yticks(fontsize=14)\n",
    "    plt.xticks(fontsize=14)"
   ]
  },
  {
   "cell_type": "markdown",
   "metadata": {},
   "source": [
    "* There are some of the outliers we found in the assists,boosts,DBNOs....etc\n",
    "* We treated outliers using winsorize method."
   ]
  },
  {
   "cell_type": "code",
   "execution_count": null,
   "metadata": {},
   "outputs": [],
   "source": []
  },
  {
   "cell_type": "code",
   "execution_count": null,
   "metadata": {},
   "outputs": [],
   "source": [
    "from scipy.stats import norm \n",
    "age=np.array(df.kills)"
   ]
  },
  {
   "cell_type": "code",
   "execution_count": null,
   "metadata": {},
   "outputs": [],
   "source": [
    "plt.figure(figsize=(10, 8))\n",
    "plt.title('kills', size=8)\n",
    "plt.xlabel('Value in $', size=8)\n",
    "sns.distplot(kills, fit=norm, kde=False)"
   ]
  },
  {
   "cell_type": "code",
   "execution_count": null,
   "metadata": {},
   "outputs": [],
   "source": []
  },
  {
   "cell_type": "code",
   "execution_count": null,
   "metadata": {},
   "outputs": [],
   "source": [
    "sample_num = 1000\n",
    "sample_size = 30\n",
    "\n",
    "mean_sample_values = []\n",
    "\n",
    "for i in range(sample_num):\n",
    "    sample_mean = np.mean(np.random.choice(kills, sample_size, replace=True))\n",
    "    mean_sample_values.append(sample_mean)"
   ]
  }
 ],
 "metadata": {
  "kernelspec": {
   "display_name": "Python 3",
   "language": "python",
   "name": "python3"
  },
  "language_info": {
   "codemirror_mode": {
    "name": "ipython",
    "version": 3
   },
   "file_extension": ".py",
   "mimetype": "text/x-python",
   "name": "python",
   "nbconvert_exporter": "python",
   "pygments_lexer": "ipython3",
   "version": "3.7.4"
  }
 },
 "nbformat": 4,
 "nbformat_minor": 2
}
